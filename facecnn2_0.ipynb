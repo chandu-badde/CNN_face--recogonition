{
  "nbformat": 4,
  "nbformat_minor": 0,
  "metadata": {
    "colab": {
      "provenance": []
    },
    "kernelspec": {
      "name": "python3",
      "display_name": "Python 3"
    },
    "language_info": {
      "name": "python"
    },
    "accelerator": "GPU",
    "gpuClass": "standard"
  },
  "cells": [
    {
      "cell_type": "code",
      "execution_count": null,
      "metadata": {
        "id": "P3zmnliiYF_9"
      },
      "outputs": [],
      "source": [
        "from google.colab import drive\n",
        "drive.mount('/content/gdrive')"
      ]
    },
    {
      "cell_type": "code",
      "source": [
        "# Specifying the folder where images are present\n",
        "TrainingImagePath='/content/gdrive/MyDrive/New_dump/Train'"
      ],
      "metadata": {
        "id": "5L_XjIbwpOgs"
      },
      "execution_count": null,
      "outputs": []
    },
    {
      "cell_type": "code",
      "source": [
        "from keras.preprocessing.image import ImageDataGenerator"
      ],
      "metadata": {
        "id": "hfFQL65ypqB8"
      },
      "execution_count": null,
      "outputs": []
    },
    {
      "cell_type": "code",
      "source": [
        "train_datagen = ImageDataGenerator(\n",
        "        shear_range=0.1,\n",
        "        zoom_range=0.1,\n",
        "        horizontal_flip=True)"
      ],
      "metadata": {
        "id": "4w8VEJwNpujp"
      },
      "execution_count": null,
      "outputs": []
    },
    {
      "cell_type": "code",
      "source": [
        "# Defining pre-processing transformations on raw images of testing data\n",
        "# No transformations are done on the testing images\n",
        "test_datagen = ImageDataGenerator()"
      ],
      "metadata": {
        "id": "DBzZK2pZpzEb"
      },
      "execution_count": null,
      "outputs": []
    },
    {
      "cell_type": "code",
      "source": [
        "# Generating the Training Data\n",
        "training_set = train_datagen.flow_from_directory(\n",
        "        TrainingImagePath,\n",
        "        target_size=(64, 64),\n",
        "        batch_size=32,\n",
        "        class_mode='categorical')\n",
        " "
      ],
      "metadata": {
        "colab": {
          "base_uri": "https://localhost:8080/"
        },
        "id": "4SUIML4Dp01G",
        "outputId": "1dba59ad-9c72-4034-e592-21684e888d10"
      },
      "execution_count": null,
      "outputs": [
        {
          "output_type": "stream",
          "name": "stdout",
          "text": [
            "Found 239 images belonging to 12 classes.\n"
          ]
        }
      ]
    },
    {
      "cell_type": "code",
      "source": [
        "# Generating the Testing Data\n",
        "test_set = test_datagen.flow_from_directory(\n",
        "        TrainingImagePath,\n",
        "        target_size=(64, 64),\n",
        "        batch_size=32,\n",
        "        class_mode='categorical')"
      ],
      "metadata": {
        "colab": {
          "base_uri": "https://localhost:8080/"
        },
        "id": "7j5d0X6Xp8S3",
        "outputId": "3cb01810-a9e9-4511-e258-d5d5fa1c4847"
      },
      "execution_count": null,
      "outputs": [
        {
          "output_type": "stream",
          "name": "stdout",
          "text": [
            "Found 239 images belonging to 12 classes.\n"
          ]
        }
      ]
    },
    {
      "cell_type": "code",
      "source": [
        "# Printing class labels for each face\n",
        "test_set.class_indices"
      ],
      "metadata": {
        "colab": {
          "base_uri": "https://localhost:8080/"
        },
        "id": "u8Lz2jvKqDCi",
        "outputId": "aec37e50-4aa0-4f1a-ef76-8295033e29c0"
      },
      "execution_count": null,
      "outputs": [
        {
          "output_type": "execute_result",
          "data": {
            "text/plain": [
              "{'Akhil': 0,\n",
              " 'Chiru': 1,\n",
              " 'Mahesh': 2,\n",
              " 'Nikhil': 3,\n",
              " 'Ntr': 4,\n",
              " 'Pawan': 5,\n",
              " 'Prabas': 6,\n",
              " 'Ramcharan': 7,\n",
              " 'Rashmika': 8,\n",
              " 'Vijya devarakonda': 9,\n",
              " 'Vishwak': 10,\n",
              " 'Yash': 11}"
            ]
          },
          "metadata": {},
          "execution_count": 792
        }
      ]
    },
    {
      "cell_type": "code",
      "source": [
        "# class_indices have the numeric tag for each face\n",
        "TrainClasses=training_set.class_indices"
      ],
      "metadata": {
        "id": "xD0XugVMqFKO"
      },
      "execution_count": null,
      "outputs": []
    },
    {
      "cell_type": "code",
      "source": [
        "# Storing the face and the numeric tag for future reference\n",
        "ResultMap={}\n",
        "for faceValue,faceName in zip(TrainClasses.values(),TrainClasses.keys()):\n",
        "    ResultMap[faceValue]=faceName"
      ],
      "metadata": {
        "id": "ddMseNY8qPQx"
      },
      "execution_count": null,
      "outputs": []
    },
    {
      "cell_type": "code",
      "source": [
        "# Saving the face map for future reference\n",
        "import pickle\n",
        "with open(\"ResultsMap.pkl\", 'wb') as fileWriteStream:\n",
        "    pickle.dump(ResultMap, fileWriteStream)"
      ],
      "metadata": {
        "id": "vZIjbDEtqUtw"
      },
      "execution_count": null,
      "outputs": []
    },
    {
      "cell_type": "code",
      "source": [
        "# The model will give answer as a numeric tag\n",
        "# This mapping will help to get the corresponding face name for it\n",
        "print(\"Mapping of Face and its ID\",ResultMap)\n"
      ],
      "metadata": {
        "colab": {
          "base_uri": "https://localhost:8080/"
        },
        "id": "gYF_qklIqWqA",
        "outputId": "f314423c-c364-449b-bee4-1a958accc1f6"
      },
      "execution_count": null,
      "outputs": [
        {
          "output_type": "stream",
          "name": "stdout",
          "text": [
            "Mapping of Face and its ID {0: 'Akhil', 1: 'Chiru', 2: 'Mahesh', 3: 'Nikhil', 4: 'Ntr', 5: 'Pawan', 6: 'Prabas', 7: 'Ramcharan', 8: 'Rashmika', 9: 'Vijya devarakonda', 10: 'Vishwak', 11: 'Yash'}\n"
          ]
        }
      ]
    },
    {
      "cell_type": "code",
      "source": [
        "# The number of neurons for the output layer is equal to the number of faces\n",
        "OutputNeurons=len(ResultMap)\n",
        "print('\\n The Number of output neurons: ', OutputNeurons)"
      ],
      "metadata": {
        "colab": {
          "base_uri": "https://localhost:8080/"
        },
        "id": "oSO-9g51qcyJ",
        "outputId": "68fad659-5cad-4d9c-8c88-b6ba2866c863"
      },
      "execution_count": null,
      "outputs": [
        {
          "output_type": "stream",
          "name": "stdout",
          "text": [
            "\n",
            " The Number of output neurons:  12\n"
          ]
        }
      ]
    },
    {
      "cell_type": "code",
      "source": [
        "from keras.models import Sequential\n",
        "from keras.layers import Convolution2D\n",
        "from keras.layers import MaxPool2D\n",
        "from keras.layers import Flatten\n",
        "from keras.layers import Dense"
      ],
      "metadata": {
        "id": "YEys3FQDqhlI"
      },
      "execution_count": null,
      "outputs": []
    },
    {
      "cell_type": "code",
      "source": [
        "'''Initializing the Convolutional Neural Network'''\n",
        "classifier= Sequential()"
      ],
      "metadata": {
        "id": "LSFcsyPfqp0k"
      },
      "execution_count": null,
      "outputs": []
    },
    {
      "cell_type": "code",
      "source": [
        "classifier.add(Convolution2D(32, kernel_size=(5, 5), strides=(1, 1), input_shape=(64,64,3), activation='relu'))"
      ],
      "metadata": {
        "id": "C_yTe8Z-qy3M"
      },
      "execution_count": null,
      "outputs": []
    },
    {
      "cell_type": "code",
      "source": [
        "'''# STEP--2 MAX Pooling'''\n",
        "classifier.add(MaxPool2D(pool_size=(2,2)))"
      ],
      "metadata": {
        "id": "bTBr2qElq0ha"
      },
      "execution_count": null,
      "outputs": []
    },
    {
      "cell_type": "code",
      "source": [
        "'''############## ADDITIONAL LAYER of CONVOLUTION for better accuracy #################'''\n",
        "classifier.add(Convolution2D(64, kernel_size=(5, 5), strides=(1, 1), activation='relu'))\n"
      ],
      "metadata": {
        "id": "UNc_r5gKq3tg"
      },
      "execution_count": null,
      "outputs": []
    },
    {
      "cell_type": "code",
      "source": [
        "classifier.add(MaxPool2D(pool_size=(2,2)))\n"
      ],
      "metadata": {
        "id": "2HRI_aDqq9G2"
      },
      "execution_count": null,
      "outputs": []
    },
    {
      "cell_type": "code",
      "source": [
        "'''# STEP--3 FLattening'''\n",
        "classifier.add(Flatten())\n"
      ],
      "metadata": {
        "id": "qk_zScEPrC_h"
      },
      "execution_count": null,
      "outputs": []
    },
    {
      "cell_type": "code",
      "source": [
        "'''# STEP--4 Fully Connected Neural Network'''\n",
        "classifier.add(Dense(128, activation='relu'))"
      ],
      "metadata": {
        "id": "lFJGciChrHoE"
      },
      "execution_count": null,
      "outputs": []
    },
    {
      "cell_type": "code",
      "source": [
        "\n",
        "classifier.add(Dense(OutputNeurons, activation='softmax'))"
      ],
      "metadata": {
        "id": "8fFYmqcarJ2U"
      },
      "execution_count": null,
      "outputs": []
    },
    {
      "cell_type": "code",
      "source": [
        "# Compiling the CNN'''\n",
        "#classifier.compile(loss='binary_crossentropy', optimizer='adam', metrics=['accuracy'])\n",
        "classifier.compile(loss='categorical_crossentropy', optimizer = 'adam', metrics=[\"accuracy\"])\n"
      ],
      "metadata": {
        "id": "bdRQmlkCrPEN"
      },
      "execution_count": null,
      "outputs": []
    },
    {
      "cell_type": "code",
      "source": [
        "import time\n",
        "# Measuring the time taken by the model to train\n",
        "StartTime=time.time()"
      ],
      "metadata": {
        "id": "XWtwRH4lrTUi"
      },
      "execution_count": null,
      "outputs": []
    },
    {
      "cell_type": "code",
      "source": [
        "# Starting the model training\n",
        "classifier.fit_generator(\n",
        "                    training_set,\n",
        "                    steps_per_epoch=8,\n",
        "                    epochs=10,\n",
        "                    validation_data=test_set,\n",
        "                    validation_steps=10)\n"
      ],
      "metadata": {
        "colab": {
          "base_uri": "https://localhost:8080/"
        },
        "id": "EX3CMS_QrWru",
        "outputId": "89e98979-9cef-453c-d5bb-063fef433cf2"
      },
      "execution_count": null,
      "outputs": [
        {
          "output_type": "stream",
          "name": "stderr",
          "text": [
            "<ipython-input-808-52fabafc46a6>:2: UserWarning: `Model.fit_generator` is deprecated and will be removed in a future version. Please use `Model.fit`, which supports generators.\n",
            "  classifier.fit_generator(\n"
          ]
        },
        {
          "output_type": "stream",
          "name": "stdout",
          "text": [
            "Epoch 1/10\n",
            "8/8 [==============================] - ETA: 0s - loss: 193.0508 - accuracy: 0.0921"
          ]
        },
        {
          "output_type": "stream",
          "name": "stderr",
          "text": [
            "WARNING:tensorflow:Your input ran out of data; interrupting training. Make sure that your dataset or generator can generate at least `steps_per_epoch * epochs` batches (in this case, 10 batches). You may need to use the repeat() function when building your dataset.\n"
          ]
        },
        {
          "output_type": "stream",
          "name": "stdout",
          "text": [
            "\b\b\b\b\b\b\b\b\b\b\b\b\b\b\b\b\b\b\b\b\b\b\b\b\b\b\b\b\b\b\b\b\b\b\b\b\b\b\b\b\b\b\b\b\b\b\b\b\b\b\b\b\b\b\b\b\b\b\b\b\b\b\b\b\b\b\b\b\b\b\b\b\b\b\b\b\b\b\b\b\b\b\r8/8 [==============================] - 5s 616ms/step - loss: 193.0508 - accuracy: 0.0921 - val_loss: 4.8236 - val_accuracy: 0.0837\n",
            "Epoch 2/10\n",
            "8/8 [==============================] - 2s 239ms/step - loss: 2.7697 - accuracy: 0.1255\n",
            "Epoch 3/10\n",
            "8/8 [==============================] - 2s 214ms/step - loss: 2.3789 - accuracy: 0.2008\n",
            "Epoch 4/10\n",
            "8/8 [==============================] - 2s 218ms/step - loss: 2.2510 - accuracy: 0.3180\n",
            "Epoch 5/10\n",
            "8/8 [==============================] - 2s 217ms/step - loss: 2.1359 - accuracy: 0.3305\n",
            "Epoch 6/10\n",
            "8/8 [==============================] - 2s 218ms/step - loss: 2.0063 - accuracy: 0.4100\n",
            "Epoch 7/10\n",
            "8/8 [==============================] - 2s 219ms/step - loss: 1.6175 - accuracy: 0.4770\n",
            "Epoch 8/10\n",
            "8/8 [==============================] - 2s 181ms/step - loss: 1.4710 - accuracy: 0.5146\n",
            "Epoch 9/10\n",
            "8/8 [==============================] - 2s 235ms/step - loss: 1.3602 - accuracy: 0.5481\n",
            "Epoch 10/10\n",
            "8/8 [==============================] - 2s 222ms/step - loss: 1.2020 - accuracy: 0.6276\n"
          ]
        },
        {
          "output_type": "execute_result",
          "data": {
            "text/plain": [
              "<keras.callbacks.History at 0x7f6bf047a760>"
            ]
          },
          "metadata": {},
          "execution_count": 808
        }
      ]
    },
    {
      "cell_type": "code",
      "source": [
        "EndTime=time.time()\n",
        "print(\"###### Total Time Taken: \", round((EndTime-StartTime)/60), 'Minutes ######')"
      ],
      "metadata": {
        "colab": {
          "base_uri": "https://localhost:8080/"
        },
        "id": "JBkHC9VRsUPS",
        "outputId": "f25f76f3-e628-4fce-a99d-167970e653cb"
      },
      "execution_count": null,
      "outputs": [
        {
          "output_type": "stream",
          "name": "stdout",
          "text": [
            "###### Total Time Taken:  1 Minutes ######\n"
          ]
        }
      ]
    },
    {
      "cell_type": "code",
      "source": [
        "import numpy as np\n",
        "import keras.utils as image"
      ],
      "metadata": {
        "id": "o6p3c04NsXWl"
      },
      "execution_count": null,
      "outputs": []
    },
    {
      "cell_type": "code",
      "source": [
        "ImagePath='/content/gdrive/MyDrive/New_dump/Test/Vijya devarakonda/images - 2022-12-08T075643.087.jpeg'\n",
        "test_image=image.load_img(ImagePath,target_size=(64, 64))\n",
        "test_image=image.img_to_array(test_image)"
      ],
      "metadata": {
        "id": "0ymJQ2Eksc_K"
      },
      "execution_count": null,
      "outputs": []
    },
    {
      "cell_type": "code",
      "source": [
        "test_image=np.expand_dims(test_image,axis=0)"
      ],
      "metadata": {
        "id": "aVNaiK6ZsdOf"
      },
      "execution_count": null,
      "outputs": []
    },
    {
      "cell_type": "code",
      "source": [
        "result=classifier.predict(test_image,verbose=0)\n",
        "print(training_set.class_indices)"
      ],
      "metadata": {
        "colab": {
          "base_uri": "https://localhost:8080/"
        },
        "id": "pzdZ-dmRsdeH",
        "outputId": "ff709871-8a7f-4586-faeb-1d7838e12113"
      },
      "execution_count": null,
      "outputs": [
        {
          "output_type": "stream",
          "name": "stdout",
          "text": [
            "{'Akhil': 0, 'Chiru': 1, 'Mahesh': 2, 'Nikhil': 3, 'Ntr': 4, 'Pawan': 5, 'Prabas': 6, 'Ramcharan': 7, 'Rashmika': 8, 'Vijya devarakonda': 9, 'Vishwak': 10, 'Yash': 11}\n"
          ]
        }
      ]
    },
    {
      "cell_type": "code",
      "source": [
        "print('####'*10)\n",
        "print('Prediction is: ',ResultMap[np.argmax(result)])"
      ],
      "metadata": {
        "colab": {
          "base_uri": "https://localhost:8080/"
        },
        "id": "Cej3B5Jusm8a",
        "outputId": "076fb304-e700-47e2-8604-eac8272961f9"
      },
      "execution_count": null,
      "outputs": [
        {
          "output_type": "stream",
          "name": "stdout",
          "text": [
            "########################################\n",
            "Prediction is:  Vijya devarakonda\n"
          ]
        }
      ]
    }
  ]
}